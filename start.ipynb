{
 "cells": [
  {
   "cell_type": "markdown",
   "id": "7defdbae",
   "metadata": {
    "tags": []
   },
   "source": [
    "# Kohya ss py3.11\n",
    "\n",
    "\n",
    "# 启动Webui\n",
    "\n",
    "注意，如果你使用多卡训练，请先配置accelerate（会用多卡的相信你会配置了）\n",
    "```bash\n",
    "accelerate config\n",
    "```\n",
    "本镜像在RTX4090单卡上配置，如果训练中报错，也可以尝试配置acclerate\n"
   ]
  },
  {
   "cell_type": "markdown",
   "id": "034fd71d-584f-4037-a332-582aeb8d7d5b",
   "metadata": {},
   "source": [
    "# 运行下面的代码块从云端更新最新的`start.ipynb`（本文档）\n",
    "### 更新完后请重新刷新jupyterlab的文件管理然后打开此文档 `/root/start.ipynb`\n",
    "### 现在运行的版本是 230803.2"
   ]
  },
  {
   "cell_type": "code",
   "execution_count": null,
   "id": "c7b2a6ed-a146-4432-9e3d-74b7816b2787",
   "metadata": {},
   "outputs": [],
   "source": [
    "!rm -rf /root/start.ipynb && wget https://drive.t4wefan.pub/d/autodl/sdxl/latest/start.ipynb"
   ]
  },
  {
   "cell_type": "markdown",
   "id": "b2ac36b2-7998-48f1-9bf3-d28b2a2e019b",
   "metadata": {},
   "source": [
    "# 下载sdxl 1.0 base 模型(默认已下载到/root/ckpts/sd_xl_base_1.0_0.9vae.safetensors)\n",
    "## 也可以手动下载"
   ]
  },
  {
   "cell_type": "code",
   "execution_count": null,
   "id": "5c25c44a-af18-4a49-bee1-e0eb85988c2c",
   "metadata": {},
   "outputs": [],
   "source": [
    "# 先安装openssl\n",
    "!apt update && apt install openssl\n",
    "!source /etc/network_turbo #启动学术加速"
   ]
  },
  {
   "cell_type": "code",
   "execution_count": null,
   "id": "78e976ac-df9e-47f7-af3d-1041c568df80",
   "metadata": {},
   "outputs": [],
   "source": [
    "!wget --no-check-certificat --max-redirect=3 -P /root/autodl-tmp https://huggingface.co/stabilityai/stable-diffusion-xl-base-1.0/resolve/main/sd_xl_base_1.0_0.9vae.safetensors\n",
    "!unset http_proxy && unset https_proxy"
   ]
  },
  {
   "cell_type": "code",
   "execution_count": null,
   "id": "49096e8b",
   "metadata": {},
   "outputs": [],
   "source": [
    "# 默认模型已下载，在/root/ckpts/sd_xl_base_1.0_0.9vae.safetensors 可以直接启动（因为这个脚本需要使用多个端口，默认已加上share，可以使用gradio来控制ui，镜像内自带frp，可以使用你自己的隧道保证数据安全）\n",
    "!mkdir /root/autodl-tmp/current #创建临时文件夹存储训练中数据\n",
    "!cd /root/kohya_ss && ./gui.sh --server_port 28000 --listen 0.0.0.0 --headless --share"
   ]
  },
  {
   "cell_type": "markdown",
   "id": "e6c02ffe-cdc5-44ce-b733-5a103421d4e4",
   "metadata": {},
   "source": [
    "## 也可以使用公开服务端口，使用下面这一行（这会导致无法启动tensorboard）"
   ]
  },
  {
   "cell_type": "code",
   "execution_count": 8,
   "id": "c681c5c1",
   "metadata": {},
   "outputs": [
    {
     "name": "stdout",
     "output_type": "stream",
     "text": [
      "mkdir: cannot create directory ‘/root/autodl-tmp/current’: File exists\n",
      "venv folder does not exist. Not activating...\n",
      "\u001b[2;36m16:49:44-919646\u001b[0m\u001b[2;36m \u001b[0m\u001b[34mINFO    \u001b[0m Version: v21.\u001b[1;36m8.5\u001b[0m                                       \n",
      "\u001b[2;36m                \u001b[0m                                                                \n",
      "\u001b[2;36m16:49:44-930666\u001b[0m\u001b[2;36m \u001b[0m\u001b[34mINFO    \u001b[0m nVidia toolkit detected                                \n",
      "\u001b[2;36m16:49:46-045017\u001b[0m\u001b[2;36m \u001b[0m\u001b[34mINFO    \u001b[0m Torch \u001b[1;36m2.0\u001b[0m.\u001b[1;36m1\u001b[0m+cu117                                      \n",
      "\u001b[2;36m16:49:46-062791\u001b[0m\u001b[2;36m \u001b[0m\u001b[34mINFO    \u001b[0m Torch backend: nVidia CUDA \u001b[1;36m11.7\u001b[0m cuDNN \u001b[1;36m8500\u001b[0m             \n",
      "\u001b[2;36m16:49:46-077803\u001b[0m\u001b[2;36m \u001b[0m\u001b[34mINFO    \u001b[0m Torch detected GPU: NVIDIA GeForce RTX \u001b[1;36m4090\u001b[0m VRAM \u001b[1;36m24217\u001b[0m \n",
      "\u001b[2;36m                \u001b[0m         Arch \u001b[1m(\u001b[0m\u001b[1;36m8\u001b[0m, \u001b[1;36m9\u001b[0m\u001b[1m)\u001b[0m Cores \u001b[1;36m128\u001b[0m                                  \n",
      "\u001b[2;36m16:49:46-079252\u001b[0m\u001b[2;36m \u001b[0m\u001b[34mINFO    \u001b[0m Verifying modules instalation status from              \n",
      "\u001b[2;36m                \u001b[0m         \u001b[35m/root/kohya_ss/\u001b[0m\u001b[95mrequirements_linux.txt...\u001b[0m               \n",
      "\u001b[2;36m16:49:46-083124\u001b[0m\u001b[2;36m \u001b[0m\u001b[34mINFO    \u001b[0m Verifying modules instalation status from              \n",
      "\u001b[2;36m                \u001b[0m         requirements.txt\u001b[33m...\u001b[0m                                    \n",
      "\u001b[2;36m16:49:47-970539\u001b[0m\u001b[2;36m \u001b[0m\u001b[34mINFO    \u001b[0m headless: \u001b[3;92mTrue\u001b[0m                                         \n",
      "\u001b[2;36m16:49:47-974690\u001b[0m\u001b[2;36m \u001b[0m\u001b[34mINFO    \u001b[0m Load CSS\u001b[33m...\u001b[0m                                            \n",
      "^C\n"
     ]
    }
   ],
   "source": [
    "# 默认模型已下载，在/root/ckpts/sd_xl_base_1.0_0.9vae.safetensors\n",
    "!mkdir /root/autodl-tmp/current #创建临时文件夹存储训练中数据\n",
    "!cd /root/kohya_ss && ./gui.sh --server_port 6006 --listen 0.0.0.0 --headless"
   ]
  },
  {
   "cell_type": "markdown",
   "id": "39b7ff42-ad88-4e90-88b2-ec5d1f046613",
   "metadata": {},
   "source": [
    "## 启动 Stable-diffusion-webui 来调试模型(适合新手，默认安装tagger可以用来给训练集打标，默认6006端口，也可以改成自己的)"
   ]
  },
  {
   "cell_type": "code",
   "execution_count": 9,
   "id": "1a2cab6a-c06e-4940-a31a-05cb98cfc20c",
   "metadata": {},
   "outputs": [
    {
     "name": "stdout",
     "output_type": "stream",
     "text": [
      "Python 3.10.8 (main, Nov 24 2022, 14:13:03) [GCC 11.2.0]\n",
      "Version: v1.4.1-201-g14cf434b\n",
      "Commit hash: 14cf434bc36d0ef31f31d4c6cd2bd15d7857d5c8\n",
      "Installing requirements\n",
      "loading WD14-tagger reqs from /root/stable-diffusion-webui/extensions/stable-diffusion-webui-wd14-tagger/requirements.txt\n",
      "Checking WD14-tagger requirements.\n",
      "\n",
      "Launching Web UI with arguments: --port 6006 --xformers --enable-insecure-extension-access --listen --no-half\n",
      "2023-08-03 16:50:08.713699: I tensorflow/core/platform/cpu_feature_guard.cc:182] This TensorFlow binary is optimized to use available CPU instructions in performance-critical operations.\n",
      "To enable the following instructions: AVX2 FMA, in other operations, rebuild TensorFlow with the appropriate compiler flags.\n",
      "2023-08-03 16:50:09.466242: W tensorflow/compiler/tf2tensorrt/utils/py_utils.cc:38] TF-TRT Warning: Could not find TensorRT\n",
      "== WD14 tagger gpu, uname_result(system='Linux', node='autodl-container-264d4da021-c22db0f8', release='5.4.0-153-generic', version='#170-Ubuntu SMP Fri Jun 16 13:43:31 UTC 2023', machine='x86_64') ==\n",
      "Loading weights [e6bb9ea85b] from /root/stable-diffusion-webui/models/Stable-diffusion/sd_xl_base_1.0_0.9vae.safetensors\n",
      "preload_extensions_git_metadata for 8 extensions took 0.26s\n",
      "Running on local URL:  http://0.0.0.0:6006\n",
      "\n",
      "To create a public link, set `share=True` in `launch()`.\n",
      "Startup time: 4.8s (import gradio: 0.3s, other imports: 1.9s, load scripts: 1.0s, create ui: 0.9s, gradio launch: 0.5s).\n",
      "Creating model from config: /root/stable-diffusion-webui/repositories/generative-models/configs/inference/sd_xl_base.yaml\n",
      "^C\n",
      "Interrupted with signal 2 in <frame at 0x73eeafb0, file '/root/miniconda3/lib/python3.10/threading.py', line 324, code wait>\n"
     ]
    }
   ],
   "source": [
    "!cd /root/stable-diffusion-webui && python launch.py --port 6006 --xformers --enable-insecure-extension-access --listen --no-half"
   ]
  },
  {
   "cell_type": "markdown",
   "id": "cff91fb7-4ba5-4400-b903-45cbf97d1fc7",
   "metadata": {},
   "source": [
    "## 启动 ComfyUI 来调试模型(适合专业用户，默认6006端口，也可以改成自己的)"
   ]
  },
  {
   "cell_type": "code",
   "execution_count": 10,
   "id": "49c551e9-d1f9-4c94-aabc-b2c5ad5be1f0",
   "metadata": {},
   "outputs": [
    {
     "name": "stdout",
     "output_type": "stream",
     "text": [
      "Total VRAM 24217 MB, total RAM 515689 MB\n",
      "xformers version: 0.0.20\n",
      "2023-08-03 16:50:26.965655: I tensorflow/core/platform/cpu_feature_guard.cc:182] This TensorFlow binary is optimized to use available CPU instructions in performance-critical operations.\n",
      "To enable the following instructions: AVX2 FMA, in other operations, rebuild TensorFlow with the appropriate compiler flags.\n",
      "2023-08-03 16:50:27.710874: W tensorflow/compiler/tf2tensorrt/utils/py_utils.cc:38] TF-TRT Warning: Could not find TensorRT\n",
      "Set vram state to: NORMAL_VRAM\n",
      "Device: cuda:0 NVIDIA GeForce RTX 4090 : cudaMallocAsync\n",
      "Using xformers cross attention\n",
      "Starting server\n",
      "\n",
      "To see the GUI go to: http://0.0.0.0:6006\n",
      "^C\n",
      "\n",
      "Stopped server\n"
     ]
    }
   ],
   "source": [
    "!cd /root/ComfyUI && python main.py --preview-method auto --port 6006 --listen 0.0.0.0"
   ]
  },
  {
   "cell_type": "markdown",
   "id": "15b544d3",
   "metadata": {
    "jp-MarkdownHeadingCollapsed": true,
    "tags": []
   },
   "source": [
    "\n",
    "\n",
    "## 手动部署（本镜像自带环境，理论上可以直接运行，推荐py3.11）"
   ]
  },
  {
   "cell_type": "code",
   "execution_count": null,
   "id": "63c7aaf8",
   "metadata": {},
   "outputs": [],
   "source": [
    "# 如果你同时使用多个gpu\n",
    "!export MKL_SERVICE_FORCE_INTEL=1\n",
    "!export MKL_THREADING_LAYER=GNU"
   ]
  },
  {
   "cell_type": "markdown",
   "id": "e159c4b9",
   "metadata": {},
   "source": [
    "克隆仓库"
   ]
  },
  {
   "cell_type": "code",
   "execution_count": null,
   "id": "d1836e8e-5452-4d84-9195-23ea400bb47a",
   "metadata": {},
   "outputs": [],
   "source": [
    "# 启动学术加速\n",
    "!source /etc/network_turbo"
   ]
  },
  {
   "cell_type": "code",
   "execution_count": null,
   "id": "3381f5b1",
   "metadata": {},
   "outputs": [],
   "source": [
    "!git clone -b sdxl-dev https://github.com/bmaltais/kohya_ss.git"
   ]
  },
  {
   "cell_type": "markdown",
   "id": "480757c5",
   "metadata": {},
   "source": [
    "安装pytorch（根据当前镜像最高版本来选择）"
   ]
  },
  {
   "cell_type": "code",
   "execution_count": null,
   "id": "7d36dd73",
   "metadata": {},
   "outputs": [],
   "source": [
    "#cu117\n",
    "#!conda install pytorch torchvision torchaudio pytorch-cuda=11.7 -c pytorch -c nvidia\n",
    "\n",
    "#cu118\n",
    "!conda install pytorch torchvision torchaudio pytorch-cuda=11.8 -c pytorch -c nvidia"
   ]
  },
  {
   "cell_type": "markdown",
   "id": "30b96afd",
   "metadata": {},
   "source": [
    "安装需要的依赖"
   ]
  },
  {
   "cell_type": "code",
   "execution_count": null,
   "id": "a6570ae1",
   "metadata": {},
   "outputs": [],
   "source": [
    "!cd /root/konya_ss\n",
    "!pip install -r requirements.txt\n",
    "!pip install xformers==0.0.20 bitsandbytes==0.35.0 tensorboard==2.12.3 tensorflow==2.12.0"
   ]
  },
  {
   "cell_type": "markdown",
   "id": "2f0d16ab",
   "metadata": {},
   "source": [
    "如果你使用上一个代码块时依赖不全，尝试这个"
   ]
  },
  {
   "cell_type": "code",
   "execution_count": null,
   "id": "fc5ae6f0",
   "metadata": {},
   "outputs": [],
   "source": [
    "!pip install accelerate==0.19.0 albumentations==1.3.0 altair==4.2.2 dadaptation==3.1 diffusers[torch]==0.18.2 easygui==0.98.3 einops==0.6.0 fairscale==0.4.13 ftfy==6.1.1 gradio==3.36.1 huggingface-hub==0.15.1 lion-pytorch==0.0.6 lycoris_lora==1.8.0 invisible-watermark==0.2.0 open-clip-torch==2.20.0 opencv-python==4.7.0.68 prodigyopt==1.0 pytorch-lightning==1.9.0 rich==13.4.1 safetensors==0.3.1 timm==0.6.12 tk==0.1.0 toml==0.10.2 transformers==4.30.2 voluptuous==0.13.1 wandb==0.15.0 xformers==0.0.20 bitsandbytes==0.35.0 tensorboard==2.12.3 tensorflow==2.12.0"
   ]
  },
  {
   "cell_type": "code",
   "execution_count": null,
   "id": "af49b137-88fd-42fc-baa5-f7bb7b5fc103",
   "metadata": {},
   "outputs": [],
   "source": [
    "# 记得取消学术加速\n",
    "!unset http_proxy && unset https_proxy"
   ]
  },
  {
   "cell_type": "markdown",
   "id": "d9e6f759-e663-47b0-9e20-fa284d6adf08",
   "metadata": {},
   "source": [
    "\n",
    "\n",
    "# 一些附赠软件"
   ]
  },
  {
   "cell_type": "markdown",
   "id": "a2001296-d452-4f9c-beaf-ee110d4b7edf",
   "metadata": {},
   "source": [
    "### frp 方便用于内网穿透，需要手写配置文件，相信你已经会了\n",
    "### gohttpserver 轻量级文件管理web，可以方便的打包和多线程下载文件"
   ]
  },
  {
   "cell_type": "code",
   "execution_count": null,
   "id": "daddddbc-702b-4728-a3e6-b1b4dcd3d043",
   "metadata": {},
   "outputs": [],
   "source": [
    "# 启动 gohttpserver 会占用6006端口，你也可以换成自己的端口\n",
    "!cd /root && ./gohttpserver --port 6006"
   ]
  }
 ],
 "metadata": {
  "kernelspec": {
   "display_name": "Python 3 (ipykernel)",
   "language": "python",
   "name": "python3"
  },
  "language_info": {
   "codemirror_mode": {
    "name": "ipython",
    "version": 3
   },
   "file_extension": ".py",
   "mimetype": "text/x-python",
   "name": "python",
   "nbconvert_exporter": "python",
   "pygments_lexer": "ipython3",
   "version": "3.10.8"
  }
 },
 "nbformat": 4,
 "nbformat_minor": 5
}
